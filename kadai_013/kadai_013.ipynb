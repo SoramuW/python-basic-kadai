{
  "nbformat": 4,
  "nbformat_minor": 0,
  "metadata": {
    "colab": {
      "provenance": []
    },
    "kernelspec": {
      "name": "python3",
      "display_name": "Python 3"
    },
    "language_info": {
      "name": "python"
    }
  },
  "cells": [
    {
      "cell_type": "code",
      "execution_count": 6,
      "metadata": {
        "colab": {
          "base_uri": "https://localhost:8080/"
        },
        "id": "ydoLmi-vRc11",
        "outputId": "15f1a497-8e04-447e-a89f-15c1504a3e46"
      },
      "outputs": [
        {
          "output_type": "execute_result",
          "data": {
            "text/plain": [
              "121.0"
            ]
          },
          "metadata": {},
          "execution_count": 6
        }
      ],
      "source": [
        "def tax_calc(product ,tax):\n",
        "  tax_par = tax * 0.01\n",
        "  return product + product  * tax_par\n",
        "\n",
        "product = 110\n",
        "tax = 10\n",
        "\n",
        "tax_calc(product,tax)\n",
        "\n",
        "\n"
      ]
    }
  ]
}