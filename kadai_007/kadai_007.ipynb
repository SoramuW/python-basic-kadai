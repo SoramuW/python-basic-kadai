{
  "nbformat": 4,
  "nbformat_minor": 0,
  "metadata": {
    "colab": {
      "provenance": []
    },
    "kernelspec": {
      "name": "python3",
      "display_name": "Python 3"
    },
    "language_info": {
      "name": "python"
    }
  },
  "cells": [
    {
      "cell_type": "code",
      "source": [
        "array = ['月曜日は晴れです','火曜日は雨です','水曜日は晴れです','木曜日は晴れです','金曜日は曇りです','土曜日は曇りのち雨です','日曜日は雷雨です']\n",
        "\n",
        "print(array[2])"
      ],
      "metadata": {
        "colab": {
          "base_uri": "https://localhost:8080/"
        },
        "id": "1l3DchXaPpfL",
        "outputId": "9d05d6a2-d80c-4e2a-c9b1-82eb2d6a7879"
      },
      "execution_count": 3,
      "outputs": [
        {
          "output_type": "stream",
          "name": "stdout",
          "text": [
            "水曜日は晴れです\n"
          ]
        }
      ]
    },
    {
      "cell_type": "code",
      "execution_count": 6,
      "metadata": {
        "colab": {
          "base_uri": "https://localhost:8080/"
        },
        "id": "L6VSHivlMMqe",
        "outputId": "73c5a7ad-9a7c-49f2-8f5a-056b8f97f07e"
      },
      "outputs": [
        {
          "output_type": "stream",
          "name": "stdout",
          "text": [
            "晴れ\n"
          ]
        }
      ],
      "source": [
        "dictionary = {'mon':'晴れ','tue':'雨','wed':'晴れ','thu':'晴れ','fri':'曇り','sat':'曇りのち雨','sun':'雷雨'}\n",
        "\n",
        "print(dictionary['wed'])"
      ]
    }
  ]
}