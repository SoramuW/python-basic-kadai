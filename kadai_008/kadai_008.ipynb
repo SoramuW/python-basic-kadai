{
  "nbformat": 4,
  "nbformat_minor": 0,
  "metadata": {
    "colab": {
      "provenance": []
    },
    "kernelspec": {
      "name": "python3",
      "display_name": "Python 3"
    },
    "language_info": {
      "name": "python"
    }
  },
  "cells": [
    {
      "cell_type": "markdown",
      "source": [
        "if文を用いて、以下の条件分岐をするコードを記述してください。値はprint関数で出力してください。\n",
        "\n",
        "・変数varが、3の倍数の場合は「Fizz」を出力\n",
        "・変数varが、5の倍数の場合は「Buzz」を出力\n",
        "・変数varが、3の倍数と5の倍数の両方に該当する場合は「FizzBuzz」を出力\n",
        "・上記のどの場合にも該当しない場合は、変数varの値を出力\n",
        "ただし、変数varは正の整数とします。"
      ],
      "metadata": {
        "id": "AdykwqAqVvyG"
      }
    },
    {
      "cell_type": "code",
      "execution_count": 16,
      "metadata": {
        "colab": {
          "base_uri": "https://localhost:8080/"
        },
        "id": "nGFbrLvxVvK6",
        "outputId": "6d2df21d-1cb7-4b3d-fa6e-680c9c4ec267"
      },
      "outputs": [
        {
          "output_type": "stream",
          "name": "stdout",
          "text": [
            "FizzBuzz\n"
          ]
        }
      ],
      "source": [
        "ver = 15\n",
        "\n",
        "if ver % 3 == 0 and ver % 5 == 0 :\n",
        "  print ('FizzBuzz')\n",
        "elif ver % 3 == 0 :\n",
        "  print ('Fizz')\n",
        "elif ver % 5 == 0 :\n",
        "  print ('Buzz')\n",
        "else :\n",
        "  print ('var=' + str(ver))"
      ]
    },
    {
      "cell_type": "code",
      "source": [
        "ver = 9\n",
        "\n",
        "if ver % 3 == 0 and ver % 5 == 0 :\n",
        "  print ('FizzBuzz')\n",
        "elif ver % 3 == 0 :\n",
        "  print ('Fizz')\n",
        "elif ver % 5 == 0 :\n",
        "  print ('Buzz')\n",
        "else :\n",
        "  print ('var=' + str(ver))"
      ],
      "metadata": {
        "colab": {
          "base_uri": "https://localhost:8080/"
        },
        "id": "AJKaqnobYdlm",
        "outputId": "00dbeadd-0e56-43da-a1a6-451a7d164165"
      },
      "execution_count": 15,
      "outputs": [
        {
          "output_type": "stream",
          "name": "stdout",
          "text": [
            "Fizz\n"
          ]
        }
      ]
    },
    {
      "cell_type": "code",
      "source": [
        "ver = 25\n",
        "\n",
        "if ver % 3 == 0 and ver % 5 == 0 :\n",
        "  print ('FizzBuzz')\n",
        "elif ver % 3 == 0 :\n",
        "  print ('Fizz')\n",
        "elif ver % 5 == 0 :\n",
        "  print ('Buzz')\n",
        "else :\n",
        "  print ('var=' + str(ver))"
      ],
      "metadata": {
        "colab": {
          "base_uri": "https://localhost:8080/"
        },
        "id": "TzlfK8N7Ydce",
        "outputId": "a83078b8-ac5c-418b-dc36-49bca242c223"
      },
      "execution_count": 14,
      "outputs": [
        {
          "output_type": "stream",
          "name": "stdout",
          "text": [
            "Buzz\n"
          ]
        }
      ]
    },
    {
      "cell_type": "code",
      "source": [
        "ver = 23\n",
        "\n",
        "if ver % 3 == 0 and ver % 5 == 0 :\n",
        "  print ('FizzBuzz')\n",
        "elif ver % 3 == 0 :\n",
        "  print ('Fizz')\n",
        "elif ver % 5 == 0 :\n",
        "  print ('Buzz')\n",
        "else :\n",
        "  print ('var=' + str(ver))"
      ],
      "metadata": {
        "colab": {
          "base_uri": "https://localhost:8080/"
        },
        "id": "a2ViQaEiYdSV",
        "outputId": "15d8174a-7fbc-4c6f-a513-a277729c9b9e"
      },
      "execution_count": 13,
      "outputs": [
        {
          "output_type": "stream",
          "name": "stdout",
          "text": [
            "var=23\n"
          ]
        }
      ]
    }
  ]
}