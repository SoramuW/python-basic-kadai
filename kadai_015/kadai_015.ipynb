{
  "nbformat": 4,
  "nbformat_minor": 0,
  "metadata": {
    "colab": {
      "provenance": []
    },
    "kernelspec": {
      "name": "python3",
      "display_name": "Python 3"
    },
    "language_info": {
      "name": "python"
    }
  },
  "cells": [
    {
      "cell_type": "code",
      "execution_count": 1,
      "metadata": {
        "colab": {
          "base_uri": "https://localhost:8080/"
        },
        "id": "rONx_GaX50nL",
        "outputId": "d4cff5e1-de12-4a73-81b9-703ae3fc5280"
      },
      "outputs": [
        {
          "output_type": "stream",
          "name": "stdout",
          "text": [
            "名前: 太郎, 年齢: 25歳\n"
          ]
        }
      ],
      "source": [
        "class Human:\n",
        "    def __init__(self, name, age):\n",
        "        self.name = name  # 名前\n",
        "        self.age = age    # 年齢\n",
        "\n",
        "    def printinfo(self):\n",
        "        print(f\"名前: {self.name}, 年齢: {self.age}歳\")\n",
        "\n",
        "\n",
        "human1 = Human(\"太郎\", 25)\n",
        "human1.printinfo()\n"
      ]
    }
  ]
}